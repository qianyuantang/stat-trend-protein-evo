{
 "cells": [
  {
   "cell_type": "markdown",
   "id": "7136387a",
   "metadata": {},
   "source": [
    "# Example code (A) \n",
    "## *The Statistical Trends of Protein Evolution: A Lesson from AlphaFold Database*\n",
    "\n",
    "Qian-Yuan Tang, Weitong Ren, Jun Wang, Kunihiko Kaneko\n",
    "\n",
    "Contact: tangqianyuan[at]gmail.com"
   ]
  },
  {
   "cell_type": "markdown",
   "id": "b6356ffe",
   "metadata": {},
   "source": [
    "## A. The calucations based on a given AlphaFold-predicted structure\n",
    "\n",
    "In this Jupyter notebook, the following structural, topological, dynamical, and sequence-related descriptors of a given structure ('AF-Q9UHJ9-F1-model_v1.pdb.gz') are calculated."
   ]
  },
  {
   "cell_type": "markdown",
   "id": "dbfdef18",
   "metadata": {},
   "source": [
    "### 1. Load the file, and calulate the basic structural descriptors"
   ]
  },
  {
   "cell_type": "code",
   "execution_count": 1,
   "id": "0b021532",
   "metadata": {},
   "outputs": [],
   "source": [
    "# Load basic python packages\n",
    "\n",
    "import numpy as np\n",
    "import os\n",
    "import matplotlib.pyplot as plt\n",
    "\n",
    "# Load Mdtraj package for the calculation of structural descriptors\n",
    "# Mdtraj: analyze MD trajectories or protein structures (https://www.mdtraj.org/1.9.8.dev0/index.html)\n",
    "\n",
    "import mdtraj as md"
   ]
  },
  {
   "cell_type": "code",
   "execution_count": 3,
   "id": "50277541",
   "metadata": {},
   "outputs": [
    {
     "name": "stdout",
     "output_type": "stream",
     "text": [
      "Rg = 22.456806\n",
      "N = 254\n",
      "SASA = 15552.73072\n",
      "SASA per residue = 61.231223\n"
     ]
    }
   ],
   "source": [
    "# Load protein file\n",
    "\n",
    "Filename = 'AF-Q9UHJ9-F1-model_v1.pdb.gz'\n",
    "traj = md.load(Filename)\n",
    "\n",
    "# Calculate Radius of gyration (Rg in unit Angstrom)\n",
    "rg = round(md.compute_rg(traj)[0]*10.,6)\n",
    "\n",
    "# Calulate number of residues (N, chain length)\n",
    "n_resi = traj.n_residues\n",
    "\n",
    "#Calculate solvent-accessible surface area (SASA in unit Angstrom square).\n",
    "sasa = md.shrake_rupley(traj)\n",
    "area = round(sum(sasa[0])*100.,6)\n",
    "area_per_resi = round(area/float(n_resi), 6)\n",
    "\n",
    "print('Rg =', rg)\n",
    "print('N =', n_resi)\n",
    "print('SASA =', area)\n",
    "print('SASA per residue =', area_per_resi)"
   ]
  },
  {
   "cell_type": "code",
   "execution_count": 4,
   "id": "6d6879b5",
   "metadata": {},
   "outputs": [
    {
     "name": "stdout",
     "output_type": "stream",
     "text": [
      "Lengths of the semi-axes = 7.299406 10.623903 18.389114\n"
     ]
    }
   ],
   "source": [
    "# Calculate the gyration tensor\n",
    "\n",
    "gy_tensor = md.compute_gyration_tensor(traj)[0]\n",
    "\n",
    "# Eigenvalues of the gyration tensor\n",
    "eigs = np.linalg.eigvalsh(gy_tensor)*100.\n",
    "\n",
    "# Length of the semi-axes\n",
    "Lx = round(eigs[0]**.5, 6)\n",
    "Ly = round(eigs[1]**.5, 6)\n",
    "Lz = round(eigs[2]**.5, 6)\n",
    "\n",
    "print('Lengths of the semi-axes =', Lx, Ly, Lz)"
   ]
  },
  {
   "cell_type": "markdown",
   "id": "07609dd2",
   "metadata": {},
   "source": [
    "### 2. Secondary structure"
   ]
  },
  {
   "cell_type": "code",
   "execution_count": 5,
   "id": "91e25016",
   "metadata": {},
   "outputs": [],
   "source": [
    "# Calculation of DSSP (Define Secondary Structure of Proteins)\n",
    "\n",
    "# The (unsimplified) DSSP assignment codes are: \n",
    "\n",
    "# 'H' : Alpha helix\n",
    "# 'B' : Residue in isolated beta-bridge\n",
    "# 'E' : Extended strand, participates in beta ladder\n",
    "# 'G' : 3-helix (3/10 helix)\n",
    "# 'I' : 5 helix (pi helix)\n",
    "# 'T' : hydrogen bonded turn\n",
    "# 'S' : bend\n",
    "# ' ' : Loops and irregular elements'\n",
    "\n",
    "dssp1 = md.compute_dssp(traj, simplified=False)[0]\n",
    "\n",
    "# The simplified DSSP assignment codes are:\n",
    "\n",
    "# 'H' : Helix. Either of the 'H', 'G', or 'I' codes.\n",
    "# 'E' : Strand. Either of the 'E', or 'B' codes.\n",
    "# 'C' : Coil. Either of the 'T', 'S' or ' ' codes.\n",
    "\n",
    "dssp2 = md.compute_dssp(traj, simplified=True)[0]"
   ]
  },
  {
   "cell_type": "code",
   "execution_count": 6,
   "id": "464c434e",
   "metadata": {},
   "outputs": [
    {
     "name": "stdout",
     "output_type": "stream",
     "text": [
      "Loop fraction (based on unsimplifed DSSP):  0.145669\n",
      "Coil fraction (based on simplifed DSSP):  0.255906\n"
     ]
    }
   ],
   "source": [
    "# Calculate the loop/coil fraction\n",
    "\n",
    "# Based on the unsimplified DSSP:\n",
    "\n",
    "n_loop = 0\n",
    "n_coil = 0\n",
    "\n",
    "for w in dssp1:\n",
    "    if w == ' ':\n",
    "        n_loop += 1\n",
    "\n",
    "for w in dssp2:\n",
    "    if w == 'C':\n",
    "        n_coil += 1\n",
    "        \n",
    "frac_loop = round(float(n_loop)/float(len(dssp1)), 6)\n",
    "print('Loop fraction (based on unsimplifed DSSP): ', frac_loop)\n",
    "\n",
    "frac_coil = round(float(n_coil)/float(len(dssp2)), 6)\n",
    "print('Coil fraction (based on simplifed DSSP): ', frac_coil)"
   ]
  },
  {
   "cell_type": "markdown",
   "id": "b15bd031",
   "metadata": {},
   "source": [
    "### 3. The calculation of topological descriptors"
   ]
  },
  {
   "cell_type": "code",
   "execution_count": 7,
   "id": "daa2e205",
   "metadata": {},
   "outputs": [
    {
     "name": "stderr",
     "output_type": "stream",
     "text": [
      "@> 2074 atoms and 1 coordinate set(s) were parsed in 0.02s.\n",
      "@> Kirchhoff was built in 0.00s.\n"
     ]
    },
    {
     "name": "stdout",
     "output_type": "stream",
     "text": [
      "Assortativity:  0.41373\n",
      "Modularity:  0.694829\n"
     ]
    }
   ],
   "source": [
    "# Load the necessary packages\n",
    "# - Prody: elastic network model calcualtions (http://prody.csb.pitt.edu/index.html)\n",
    "# - Networkx: network analysis (https://networkx.org/)\n",
    "# - Community: Network partition (https://python-louvain.readthedocs.io/en/latest/index.html)\n",
    "\n",
    "\n",
    "from prody import *\n",
    "import networkx as nx\n",
    "import community\n",
    "\n",
    "pdb_full = parsePDB(Filename)\n",
    "calphas = pdb_full.select('calpha')\n",
    "N = len(calphas)\n",
    "\n",
    "# Cutoff distance\n",
    "rc = 8.\n",
    "\n",
    "# Build Kirchhoff matrix by Prody (graph Laplacain)\n",
    "gnm = GNM('GNM_'+ Filename)\n",
    "gnm.buildKirchhoff(calphas, cutoff=rc)\n",
    "tmpHessian = gnm.getKirchhoff()\n",
    "\n",
    "# Build the network by NetworkX\n",
    "G = nx.Graph()\n",
    "for i in range(N):\n",
    "    # Add nodes\n",
    "    G.add_node(i)\n",
    "for i in range(N):\n",
    "    for j in range(i+1, N):\n",
    "        if j>i and tmpHessian[i][j]<-.9:\n",
    "            # Add edges\n",
    "            G.add_edge(i,j)\n",
    "            \n",
    "# Calculate Assortativity\n",
    "assort = nx.degree_assortativity_coefficient(G)\n",
    "\n",
    "# Find the partition of the network\n",
    "parti = community.best_partition(G)\n",
    "\n",
    "# Calculate modularity\n",
    "Q = community.modularity(parti, G)\n",
    "\n",
    "print('Assortativity: ', round(assort,6))\n",
    "print('Modularity: ', round(Q,6))"
   ]
  },
  {
   "cell_type": "markdown",
   "id": "2e85eb91",
   "metadata": {},
   "source": [
    "### 4. Fractal dimension (based on box-counting method)\n",
    "\n",
    "To estimate the fractal dimension of a protein, we first calculate the fractal dimension of every residue based on the box-counting method (counting how the number of neighboring residues increases as the cutoff distance increases) and then calculate the average over all the residues."
   ]
  },
  {
   "cell_type": "code",
   "execution_count": 8,
   "id": "230efe41",
   "metadata": {},
   "outputs": [
    {
     "name": "stdout",
     "output_type": "stream",
     "text": [
      "Fractal Dimension:  2.231232\n"
     ]
    },
    {
     "data": {
      "image/png": "[encoded data removed]",
      "text/plain": [
       "<Figure size 432x288 with 1 Axes>"
      ]
     },
     "metadata": {
      "needs_background": "light"
     },
     "output_type": "display_data"
    }
   ],
   "source": [
    "rclist = np.array([5, 6, 7, 8, 9, 10, 11, 12])\n",
    "\n",
    "nb_all = []\n",
    "Dist = buildDistMatrix(calphas)\n",
    "\n",
    "# Changing the cutoff distances\n",
    "for rc in rclist:\n",
    "    nb = []\n",
    "    for i in range(len(Dist)):\n",
    "        # Calcualting the number of neighbors\n",
    "        pos_count = len(list(filter(lambda x: (x <= rc), Dist[i])))\n",
    "        nb.append(pos_count)\n",
    "    nb_all.append(nb)\n",
    "\n",
    "nb_all = np.array(nb_all)\n",
    "nb_ave = np.array([round(np.mean(nb_all[k]),4) for k in range(len(nb_all))])\n",
    "\n",
    "# Scattering plot\n",
    "plt.plot(rclist, nb_ave, 'ro')\n",
    "plt.xlabel('$r$')\n",
    "plt.ylabel('Average number of neighbors')\n",
    "\n",
    "# Log-log fitting\n",
    "kb = np.polyfit(np.log(rclist), np.log(nb_ave), 1)\n",
    "fitted = [np.exp(kb[0]*np.log(x)+kb[1]) for x in rclist]\n",
    "plt.plot(rclist, fitted, 'k-')\n",
    "\n",
    "# Fractal dimension\n",
    "fract = round(kb[0], 6)\n",
    "print('Fractal Dimension: ', fract)"
   ]
  },
  {
   "cell_type": "markdown",
   "id": "9052df58",
   "metadata": {},
   "source": [
    "### 5. Eigengaps and Zipf's coeffficients (based on elastic network models)"
   ]
  },
  {
   "cell_type": "code",
   "execution_count": 9,
   "id": "28beab3d",
   "metadata": {},
   "outputs": [
    {
     "name": "stdout",
     "output_type": "stream",
     "text": [
      "3.360821461564158e-16\n",
      "Unnormalized Eigenvalues [0.06771152 0.17675373 0.22401456 0.41396638 0.43915161]\n",
      "Normalized Eigenvalues [0.00721423 0.01883198 0.02386732 0.04410548 0.0467888 ]\n",
      "Lambda2/Lambda1 2.610394\n",
      "Lambda3/Lambda2 1.267382\n",
      "Lambda4/Lambda3 1.847944\n"
     ]
    }
   ],
   "source": [
    "# Calculate the eigenvalues of the Hessian matrix\n",
    "\n",
    "Eigs = np.linalg.eigvalsh(tmpHessian)\n",
    "\n",
    "# Print the zero-th eigenvalue\n",
    "print(Eigs[0])\n",
    "\n",
    "# Print the first five eigenvalue (unnormalized)\n",
    "print('Unnormalized Eigenvalues', Eigs[1:6])\n",
    "\n",
    "# Normalize the eigenvalues\n",
    "sumeigs = sum(Eigs)\n",
    "NormEigs = Eigs/sumeigs*float(len(Eigs))\n",
    "\n",
    "# Print the first five eigenvalue (normalized)\n",
    "print('Normalized Eigenvalues',NormEigs[1:6])\n",
    "\n",
    "# Calculate the eigengaps\n",
    "print('Lambda2/Lambda1', round(NormEigs[2]/NormEigs[1], 6))\n",
    "print('Lambda3/Lambda2', round(NormEigs[3]/NormEigs[2], 6))\n",
    "print('Lambda4/Lambda3', round(NormEigs[4]/NormEigs[3], 6))\n"
   ]
  },
  {
   "cell_type": "code",
   "execution_count": 10,
   "id": "293ade47",
   "metadata": {},
   "outputs": [
    {
     "data": {
      "text/plain": [
       "Text(0, 0.5, 'Eigenvalue $\\\\lambda_i$')"
      ]
     },
     "execution_count": 10,
     "metadata": {},
     "output_type": "execute_result"
    },
    {
     "data": {
      "image/png": "[encoded data removed]",
      "text/plain": [
       "<Figure size 432x288 with 1 Axes>"
      ]
     },
     "metadata": {
      "needs_background": "light"
     },
     "output_type": "display_data"
    }
   ],
   "source": [
    "# Plot the normalized eigenvalues in the log-log scale\n",
    "plt.loglog(NormEigs[1:], 'o')\n",
    "plt.xlabel('Eigenvalue Index $i$')\n",
    "plt.ylabel('Eigenvalue $\\lambda_i$')"
   ]
  },
  {
   "cell_type": "code",
   "execution_count": 11,
   "id": "f168fc54",
   "metadata": {},
   "outputs": [
    {
     "name": "stdout",
     "output_type": "stream",
     "text": [
      "Zipf Coefficient z (fitted with 10% of the eigenvalues) 1.016895\n",
      "Zipf Coefficient z (fitted with 25% of the eigenvalues) 0.861081\n",
      "Zipf Coefficient z (fitted with 50% of the eigenvalues) 0.690232\n",
      "Zipf Coefficient z (fitted with all the eigenvalues) 0.790732\n"
     ]
    },
    {
     "data": {
      "image/png": "[encoded data removed]",
      "text/plain": [
       "<Figure size 432x288 with 1 Axes>"
      ]
     },
     "metadata": {
      "needs_background": "light"
     },
     "output_type": "display_data"
    }
   ],
   "source": [
    "# Fit the Zipf coefficient\n",
    "\n",
    "import powerlaw\n",
    "# Here, python package 'powerlaw' is included (https://pypi.org/project/powerlaw/)\n",
    "\n",
    "def fit_powerlaw(x, b):\n",
    "    # The function that can fit the Zipf's coefficient\n",
    "    # b denote the fraction of the eigenvalues to be fitted\n",
    "    \n",
    "    tmpdata = x[:int(len(x)*b)]\n",
    "    fit = powerlaw.Fit(tmpdata, xmin=tmpdata[-1], discrete=False)\n",
    "    alpha = fit.power_law.alpha\n",
    "    z = round(1./(alpha-1.), 6)\n",
    "    return z\n",
    "\n",
    "\n",
    "# Plot the rank-size distribution of the inverse eigenvalues\n",
    "invHessian = np.array([round(NormEigs[1]/t,6) for t in NormEigs[1:]])\n",
    "index = [i+1 for i in range(len(invHessian))]\n",
    "plt.loglog(index, invHessian, 'o')\n",
    "\n",
    "\n",
    "z1 = fit_powerlaw(invHessian, 0.1)\n",
    "z2 = fit_powerlaw(invHessian, 0.25)\n",
    "z3 = fit_powerlaw(invHessian, 0.5)\n",
    "z4 = fit_powerlaw(invHessian, 1.)\n",
    "print('Zipf Coefficient z (fitted with 10% of the eigenvalues)', z1)\n",
    "print('Zipf Coefficient z (fitted with 25% of the eigenvalues)', z2)\n",
    "print('Zipf Coefficient z (fitted with 50% of the eigenvalues)', z3)\n",
    "print('Zipf Coefficient z (fitted with all the eigenvalues)', z4)"
   ]
  },
  {
   "cell_type": "markdown",
   "id": "9492adae",
   "metadata": {},
   "source": [
    "### 6. pLDDT\n",
    "\n",
    "AlphaFold produces a per-residue confidence metric called the predicted local distance difference test (pLDDT) on a scale from 0 to 100. Usually, residues with pLDDT ≤ 50 correspond to very low confidence, residues with 50 < pLDDT ≤ 70 have low confidence, and residues with 70 < pLDDT ≤ 90 correspond to a generally correct backbone prediction, and residues with pLDDT > 90 are expected to be modeled to high accuracy. "
   ]
  },
  {
   "cell_type": "code",
   "execution_count": 12,
   "id": "fa79e443",
   "metadata": {},
   "outputs": [
    {
     "data": {
      "text/plain": [
       "Text(0, 0.5, 'pLDDT')"
      ]
     },
     "execution_count": 12,
     "metadata": {},
     "output_type": "execute_result"
    },
    {
     "data": {
      "image/png": "[encoded data removed]",
      "text/plain": [
       "<Figure size 432x288 with 1 Axes>"
      ]
     },
     "metadata": {
      "needs_background": "light"
     },
     "output_type": "display_data"
    }
   ],
   "source": [
    "# In AlphaFold-predicted structures, the pLDDT is stored as the B-factors of the atoms.\n",
    "\n",
    "plddt = calphas.getBetas()\n",
    "plt.plot(plddt)\n",
    "plt.xlabel('Residue index')\n",
    "plt.ylabel('pLDDT')"
   ]
  },
  {
   "cell_type": "markdown",
   "id": "901eba15",
   "metadata": {},
   "source": [
    "### 7. Sequence (Hydrophobic-hydrophilic segregation)"
   ]
  },
  {
   "cell_type": "code",
   "execution_count": 13,
   "id": "e9001fb9",
   "metadata": {},
   "outputs": [
    {
     "name": "stdout",
     "output_type": "stream",
     "text": [
      "MYQVPLPLDRDGTLVRLRFTMVALVTVCCPLVAFLFCILWSLLFHFKETTATHCGVPNYLPSVSSAIGGEVPQRYVWRFCIGLHSAPRFLVAFAYWNHYLSCTSPCSCYRPLCRLNFGLNVVENLALLVLTYVSSSEDFTIHENAFIVFIASSLGHMLLTCILWRLTKKHTVSQEDRKSYSWKQRLFIINFISFFSALAVYFRHNMYCEAGVYTIFAILEYTVVLTNMAFHMTAWWDFGNKELLITSQPEEKRF\n",
      "CVHP =  0.260841\n"
     ]
    },
    {
     "data": {
      "image/png": "[encoded data removed]",
      "text/plain": [
       "<Figure size 432x288 with 1 Axes>"
      ]
     },
     "metadata": {
      "needs_background": "light"
     },
     "output_type": "display_data"
    }
   ],
   "source": [
    "# Get sequence and print sequence\n",
    "seq = calphas.getSequence()\n",
    "print(seq)\n",
    "\n",
    "# Load Biopython for sequence analysis\n",
    "# Biopython: https://biopython.org/\n",
    "\n",
    "from Bio.SeqUtils.ProtParam import ProteinAnalysis\n",
    "analyzed_seq = ProteinAnalysis(seq)\n",
    "\n",
    "\n",
    "# Set moving window size\n",
    "iwindow = 7\n",
    "\n",
    "# Zimmerman hydrophobicity scale\n",
    "zi = {\"A\": 0.83, \"R\": 0.83, \"N\": 0.09, \"D\": 0.64, \"C\": 1.48,\n",
    "      \"Q\": 0, \"E\": 0.65, \"G\": 0.1, \"H\": 1.1, \"I\": 3.07,\n",
    "      \"L\": 2.52, \"K\": 1.6, \"M\": 1.4, \"F\": 2.75, \"P\": 2.7,\n",
    "      \"S\": 0.14, \"T\": 0.54, \"W\": 0.31, \"Y\": 2.97, \"V\": 1.79}\n",
    "\n",
    "# Other hydrophobicity scale can be accessed at: \n",
    "# https://github.com/biopython/biopython/blob/master/Bio/SeqUtils/ProtParamData.py\n",
    "\n",
    "# Calculate and plot the hydrophathy profile of the protein \n",
    "scale_HP = analyzed_seq.protein_scale(window=iwindow, param_dict=zi)\n",
    "plt.plot(scale_HP)\n",
    "plt.xlabel('Residue index')\n",
    "plt.ylabel('Hydrophobicity (Zimmerman)')\n",
    "\n",
    "\n",
    "# Calculate CV_HP\n",
    "ave = np.mean(scale_HP)\n",
    "stdev = np.std(scale_HP)\n",
    "CVHP = stdev/ave\n",
    "print('CVHP = ', round(CVHP, 6))"
   ]
  }
 ],
 "metadata": {
  "kernelspec": {
   "display_name": "myenv",
   "language": "python",
   "name": "myenv"
  },
  "language_info": {
   "codemirror_mode": {
    "name": "ipython",
    "version": 3
   },
   "file_extension": ".py",
   "mimetype": "text/x-python",
   "name": "python",
   "nbconvert_exporter": "python",
   "pygments_lexer": "ipython3",
   "version": "3.8.12"
  }
 },
 "nbformat": 4,
 "nbformat_minor": 5
}
