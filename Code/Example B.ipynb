{
 "cells": [
  {
   "cell_type": "markdown",
   "id": "ba94930c",
   "metadata": {},
   "source": [
    "# Example code (B) \n",
    "## *The Statistical Trends of Protein Evolution: A Lesson from AlphaFold Database*\n",
    "\n",
    "Qian-Yuan Tang, Weitong Ren, Jun Wang, Kunihiko Kaneko\n",
    "\n",
    "Contact: tangqianyuan[at]gmail.com"
   ]
  },
  {
   "cell_type": "markdown",
   "id": "b08c866b",
   "metadata": {},
   "source": [
    "## B. Statistical analysis and scaling analysis\n",
    "\n",
    "In this Jupyter notebook, we will load the data (calculation results) and perform statistical analysis and scaling analysis.\n",
    "\n",
    "### 1. Load data"
   ]
  },
  {
   "cell_type": "code",
   "execution_count": 1,
   "id": "713760c3",
   "metadata": {},
   "outputs": [],
   "source": [
    "# Load species names\n",
    "\n",
    "name_species = {'METJA': 'Methanocaldococcus jannaschii', \n",
    "                'STAA8': 'Staphylococcus aureus', \n",
    "                'ECOLI': 'Escherichia coli', \n",
    "                'MYCTU': 'Mycobacterium tuberculosis', \n",
    "                'YEAST': 'Saccharomyces cerevisiae', \n",
    "                'SCHPO': 'Schizosaccharomyces pombe', \n",
    "                'DICDI': 'Dictyostelium discoideum', \n",
    "                'LEIIN': 'Leishmania infantum', \n",
    "                'CANAL': 'Candida albicans', \n",
    "                'DROME': 'Drosophila melanogaster', \n",
    "                'CAEEL': 'Caenorhabditis elegans', \n",
    "                'SOYBN': 'Glycine max', \n",
    "                'ARATH': 'Arabidopsis thaliana', \n",
    "                'MAIZE': 'Zea mays', \n",
    "                'PLAF7': 'Plasmodium falciparum', \n",
    "                'DANRE': 'Danio rerio', \n",
    "                'ORYSJ': 'Oryza sativa', \n",
    "                'RAT': 'Rattus norvegicus', \n",
    "                'HUMAN': 'Homo sapiens', \n",
    "                'TRYCC': 'Trypanosoma cruzi', \n",
    "                'MOUSE': 'Mus musculus', \n",
    "                'AJECG': 'Ajellomyces capsulatus', \n",
    "                'BRUMA': 'Brugia malayi', \n",
    "                'CAMJE': 'Campylobacter jejuni', \n",
    "                '9EURO1': 'Cladophialophora carrionii', \n",
    "                'DRAME': 'Dracunculus medinensis', \n",
    "                'ENTFC': 'Enterococcus faecium', \n",
    "                '9EURO2': 'Fonsecaea pedrosoi', \n",
    "                'HAEIN': 'Haemophilus influenzae', \n",
    "                'HELPY': 'Helicobacter pylori', \n",
    "                'KLEPH': 'Klebsiella pneumoniae', \n",
    "                '9PEZI1': 'Madurella mycetomatis', \n",
    "                'MYCLE': 'Mycobacterium leprae', \n",
    "                'MYCUL': 'Mycobacterium ulcerans', \n",
    "                'NEIG1': 'Neisseria gonorrhoeae', \n",
    "                '9NOCA1': 'Nocardia brasiliensis', \n",
    "                'ONCVO': 'Onchocerca volvulus', \n",
    "                'PARBA': 'Paracoccidioides lutzii', \n",
    "                'PSEAE': 'Pseudomonas aeruginosa', \n",
    "                'SALTY': 'Salmonella typhimurium', \n",
    "                'SCHMA': 'Schistosoma mansoni', \n",
    "                'SHIDS': 'Shigella dysenteriae', \n",
    "                'SPOS1': 'Sporothrix schenckii', \n",
    "                'STRR6': 'Streptococcus pneumoniae', \n",
    "                'STRER': 'Strongyloides stercoralis', \n",
    "                'TRITR': 'Trichuris trichiura', \n",
    "                'TRYB2': 'Trypanosoma brucei', \n",
    "                'WUCBA': 'Wuchereria bancrofti'}\n",
    "\n",
    "Model = ['METJA', 'ECOLI', 'YEAST', 'SCHPO', 'DICDI', \n",
    "         'CANAL', 'DROME', 'CAEEL', 'SOYBN', 'ARATH', \n",
    "         'MAIZE', 'DANRE', 'ORYSJ', 'RAT', 'HUMAN', \n",
    "         'MOUSE']\n",
    "\n",
    "Health = ['AJECG', 'BRUMA', 'CAMJE', '9EURO1', 'DRAME', \n",
    "          'ENTFC', '9EURO2', 'HAEIN', 'HELPY', 'KLEPH', \n",
    "          'LEIIN', '9PEZI1', 'MYCLE', 'MYCTU', 'MYCUL', \n",
    "          'NEIG1', '9NOCA1', 'ONCVO', 'PARBA', 'PLAF7', \n",
    "          'PSEAE', 'SALTY', 'SCHMA', 'SHIDS', 'SPOS1', \n",
    "          'STAA8', 'STRR6', 'STRER', 'TRITR', 'TRYB2', \n",
    "          'TRYCC', 'WUCBA']"
   ]
  },
  {
   "cell_type": "code",
   "execution_count": 2,
   "id": "295430ee",
   "metadata": {},
   "outputs": [],
   "source": [
    "# Load data\n",
    "import os\n",
    "import numpy as np\n",
    "\n",
    "data = {}\n",
    "\n",
    "# Load data of Rg (radius of gyration)\n",
    "for organism in name_species:\n",
    "    filename = os.path.join('Data', 'Data_' + organism + '.txt')\n",
    "    data[organism] = np.loadtxt(filename)\n",
    "    \n",
    "# Load data of complexity\n",
    "complexity = {}\n",
    "f = open(os.path.join('Data', 'Organismal_Complexity.txt'), 'r')\n",
    "while True:\n",
    "    # read file (line by line)\n",
    "    line = f.readline()\n",
    "    if len(line)<2: break\n",
    "    xline = line.split()\n",
    "    complexity[xline[0]] = [float(xline[1]), float(xline[2])]\n",
    "f.close()"
   ]
  },
  {
   "cell_type": "markdown",
   "id": "85dda209",
   "metadata": {},
   "source": [
    "### 2. Calculate normalized Rg"
   ]
  },
  {
   "cell_type": "code",
   "execution_count": 3,
   "id": "dc523d2f",
   "metadata": {},
   "outputs": [],
   "source": [
    "# Normalize Rg\n",
    "\n",
    "normalized_Rg = {}\n",
    "\n",
    "Median_normalized_Rg = {}\n",
    "\n",
    "for organism in name_species:\n",
    "    normalized_Rg[organism] = []\n",
    "    for dataline in data[organism]:\n",
    "        N = dataline[0]\n",
    "        Rg = dataline[1]\n",
    "        norm_Rg = Rg/((N)**(1./3.))\n",
    "        normalized_Rg[organism].append(norm_Rg)\n",
    "    # Get the median of the normalized Rg\n",
    "    Median_normalized_Rg[organism] = np.median(normalized_Rg[organism])"
   ]
  },
  {
   "cell_type": "code",
   "execution_count": 4,
   "id": "24d3b3f4",
   "metadata": {},
   "outputs": [
    {
     "name": "stdout",
     "output_type": "stream",
     "text": [
      "#Proteins vs. Normalized Rg\n",
      "Pearson correlation 0.7829687636721201\n",
      "p-value 4.844310203081078e-11\n",
      "\n",
      "#Residues vs. Normalized Rg\n",
      "Pearson correlation 0.8481274575571653\n",
      "p-value 2.7869717661225785e-14\n"
     ]
    },
    {
     "data": {
      "image/png": "[encoded data removed]",
      "text/plain": [
       "<Figure size 432x288 with 1 Axes>"
      ]
     },
     "metadata": {
      "needs_background": "light"
     },
     "output_type": "display_data"
    }
   ],
   "source": [
    "# Plot normalized Rg vs. measures of complexity\n",
    "\n",
    "import matplotlib.pyplot as plt\n",
    "\n",
    "x = []\n",
    "y = []\n",
    "z = []\n",
    "\n",
    "for organism in name_species:\n",
    "    x.append(Median_normalized_Rg[organism])\n",
    "    y.append(complexity[organism][0])\n",
    "    z.append(complexity[organism][1])\n",
    "\n",
    "# Convert list into numpy arrays\n",
    "x = np.array(x) # Normalized Rg\n",
    "y = np.array(y) # Number of proteins\n",
    "z = np.array(z) # Number of residues\n",
    "    \n",
    "plt.semilogy(x, y, 'ro', label='#proteins')\n",
    "plt.semilogy(x, z, 'bx', label='#residues')\n",
    "\n",
    "plt.xlabel('$R_g/N^{1/3}$')\n",
    "plt.ylabel('Complexity')\n",
    "plt.legend()\n",
    "\n",
    "# Fitting and plot the curves\n",
    "\n",
    "kb_y = np.polyfit(x, np.log(y), 1)  \n",
    "tmpx = np.array([3.1 + 0.1*i for i in range(17)])\n",
    "tmpy = np.exp(kb_y[0] * tmpx + kb_y[1])\n",
    "plt.plot(tmpx, tmpy, 'r-')\n",
    "\n",
    "kb_z = np.polyfit(x, np.log(z), 1)\n",
    "tmpz = np.exp(kb_z[0] * tmpx + kb_z[1])\n",
    "plt.plot(tmpx, tmpz, 'b-')\n",
    "\n",
    "\n",
    "# Package scipy is necessary for the calculation of Pearson correlation and p-values\n",
    "import scipy.stats  \n",
    "r, p = scipy.stats.pearsonr(np.log(y), x)\n",
    "print('#Proteins vs. Normalized Rg')\n",
    "print('Pearson correlation', r)\n",
    "print('p-value', p)\n",
    "\n",
    "print()\n",
    "\n",
    "r, p = scipy.stats.pearsonr(np.log(z), x)\n",
    "print('#Residues vs. Normalized Rg')\n",
    "print('Pearson correlation', r)\n",
    "print('p-value', p)"
   ]
  },
  {
   "cell_type": "code",
   "execution_count": 5,
   "id": "870bd866",
   "metadata": {},
   "outputs": [
    {
     "name": "stdout",
     "output_type": "stream",
     "text": [
      "ECOLI vs METJA\n",
      "KS Statistic D = 0.065829\n",
      "p-value = 3.4e-05\n",
      "tau(alpha=0.01) = 1.435706\n",
      "tau(alpha=0.001) = 1.199246\n",
      "\n",
      "ECOLI vs HUMAN\n",
      "KS Statistic D = 0.463349\n",
      "p-value = 0.0\n",
      "tau(alpha=0.01) = 17.258689\n",
      "tau(alpha=0.001) = 14.416185\n",
      "\n",
      "MOUSE vs HUMAN\n",
      "KS Statistic D = 0.079318\n",
      "p-value = 0.0\n",
      "tau(alpha=0.01) = 5.163974\n",
      "tau(alpha=0.001) = 4.313468\n"
     ]
    }
   ],
   "source": [
    "# KS test\n",
    "# Load scipy for the two-sample KS test\n",
    "from scipy.stats import ks_2samp\n",
    "\n",
    "DataA = normalized_Rg['ECOLI']\n",
    "DataB = normalized_Rg['METJA']\n",
    "ksstat, pval = ks_2samp(DataA, DataB)\n",
    "invnm = (len(DataA) + len(DataB))/(len(DataA) * len(DataB))\n",
    "ksnorm = ksstat/(invnm**0.5)\n",
    "\n",
    "print('ECOLI vs METJA')\n",
    "print('KS Statistic D =', round(ksstat, 6))\n",
    "print('p-value =', round(pval, 6))\n",
    "print('tau(alpha=0.01) =', round(ksnorm/1.628,6))\n",
    "print('tau(alpha=0.001) =', round(ksnorm/1.949,6))\n",
    "\n",
    "print()\n",
    "\n",
    "DataA = normalized_Rg['ECOLI']\n",
    "DataB = normalized_Rg['HUMAN']\n",
    "ksstat, pval = ks_2samp(DataA, DataB)\n",
    "invnm = (len(DataA) + len(DataB))/(len(DataA) * len(DataB))\n",
    "ksnorm = ksstat/(invnm**0.5)\n",
    "\n",
    "print('ECOLI vs HUMAN')\n",
    "print('KS Statistic D =', round(ksstat, 6))\n",
    "print('p-value =', round(pval, 6))\n",
    "print('tau(alpha=0.01) =', round(ksnorm/1.628,6))\n",
    "print('tau(alpha=0.001) =', round(ksnorm/1.949,6))\n",
    "\n",
    "print()\n",
    "\n",
    "DataA = normalized_Rg['MOUSE']\n",
    "DataB = normalized_Rg['HUMAN']\n",
    "ksstat, pval = ks_2samp(DataA, DataB)\n",
    "invnm = (len(DataA) + len(DataB))/(len(DataA) * len(DataB))\n",
    "ksnorm = ksstat/(invnm**0.5)\n",
    "\n",
    "print('MOUSE vs HUMAN')\n",
    "print('KS Statistic D =', round(ksstat, 6))\n",
    "print('p-value =', round(pval, 6))\n",
    "print('tau(alpha=0.01) =', round(ksnorm/1.628,6))\n",
    "print('tau(alpha=0.001) =', round(ksnorm/1.949,6))"
   ]
  },
  {
   "cell_type": "markdown",
   "id": "1a5b4d91",
   "metadata": {},
   "source": [
    "### 3. Select proteins with similar chain lengths"
   ]
  },
  {
   "cell_type": "code",
   "execution_count": 6,
   "id": "6bfed86f",
   "metadata": {},
   "outputs": [],
   "source": [
    "# Select protein with chain length N ~ 250\n",
    "\n",
    "Nmin = 225\n",
    "Nmax = 275\n",
    "\n",
    "Rg_selected = {}\n",
    "Median_selected_Rg = {}\n",
    "for organism in name_species:\n",
    "    Rg_selected[organism] = []\n",
    "    for dataline in data[organism]:\n",
    "        N = dataline[0]\n",
    "        Rg = dataline[1]\n",
    "        if N>=Nmin and N<Nmax:\n",
    "            Rg_selected[organism].append(Rg)\n",
    "    Median_selected_Rg[organism] = np.median(Rg_selected[organism])"
   ]
  },
  {
   "cell_type": "code",
   "execution_count": 7,
   "id": "a373fffd",
   "metadata": {},
   "outputs": [
    {
     "name": "stdout",
     "output_type": "stream",
     "text": [
      "#Proteins vs. Rg (N ~ 250)\n",
      "Pearson correlation 0.8197116351723689\n",
      "p-value 1.0412160812104868e-12\n",
      "\n",
      "#Residues vs. Rg (N ~ 250)\n",
      "Pearson correlation 0.8751033493159206\n",
      "p-value 4.204008453551541e-16\n"
     ]
    },
    {
     "data": {
      "image/png": "[encoded data removed]",
      "text/plain": [
       "<Figure size 432x288 with 1 Axes>"
      ]
     },
     "metadata": {
      "needs_background": "light"
     },
     "output_type": "display_data"
    }
   ],
   "source": [
    "# For proteins with similar chain lengths\n",
    "# Plot Rg vs. measures of complexity\n",
    "\n",
    "import matplotlib.pyplot as plt\n",
    "\n",
    "x = []\n",
    "y = []\n",
    "z = []\n",
    "\n",
    "for organism in name_species:\n",
    "    x.append(Median_selected_Rg[organism])\n",
    "    y.append(complexity[organism][0])\n",
    "    z.append(complexity[organism][1])\n",
    "\n",
    "# Convert list into numpy arrays\n",
    "x = np.array(x) # Normalized Rg\n",
    "y = np.array(y) # Number of proteins\n",
    "z = np.array(z) # Number of residues\n",
    "    \n",
    "plt.semilogy(x, y, 'ro', label='#proteins')\n",
    "plt.semilogy(x, z, 'bx', label='#residues')\n",
    "\n",
    "plt.xlabel('$R_g$ ($N \\\\approx $250)')\n",
    "plt.ylabel('Complexity')\n",
    "plt.legend()\n",
    "\n",
    "# Fitting and plot the curves\n",
    "\n",
    "kb_y = np.polyfit(x, np.log(y), 1)  \n",
    "tmpx = np.array([18 + 1.*i for i in range(15)])\n",
    "tmpy = np.exp(kb_y[0] * tmpx + kb_y[1])\n",
    "plt.plot(tmpx, tmpy, 'r-')\n",
    "\n",
    "kb_z = np.polyfit(x, np.log(z), 1)\n",
    "tmpz = np.exp(kb_z[0] * tmpx + kb_z[1])\n",
    "plt.plot(tmpx, tmpz, 'b-')\n",
    "\n",
    "\n",
    "# Package scipy is necessary for the calculation of Pearson correlation and p-values\n",
    "import scipy.stats  \n",
    "r, p = scipy.stats.pearsonr(np.log(y), x)\n",
    "print('#Proteins vs. Rg (N ~ 250)')\n",
    "print('Pearson correlation', r)\n",
    "print('p-value', p)\n",
    "\n",
    "print()\n",
    "\n",
    "r, p = scipy.stats.pearsonr(np.log(z), x)\n",
    "print('#Residues vs. Rg (N ~ 250)')\n",
    "print('Pearson correlation', r)\n",
    "print('p-value', p)"
   ]
  },
  {
   "cell_type": "markdown",
   "id": "7aa670cb",
   "metadata": {},
   "source": [
    "### 4. Scaling analysis"
   ]
  },
  {
   "cell_type": "code",
   "execution_count": 8,
   "id": "4824cc1e",
   "metadata": {},
   "outputs": [],
   "source": [
    "# Select two organisms for the analysis\n",
    "\n",
    "selected_organism = ['ECOLI', 'HUMAN']\n",
    "\n",
    "# Collect the data of the lengths of the shortest semi-axis (L_c)\n",
    "N_data = {}\n",
    "Lc_data = {}\n",
    "for organism in name_species:\n",
    "    N_data[organism] = data[organism][:,0] # First column\n",
    "    Lc_data[organism] = data[organism][:,-3] # Last column (length of the shortest semi-axis)"
   ]
  },
  {
   "cell_type": "code",
   "execution_count": 9,
   "id": "128c907c",
   "metadata": {},
   "outputs": [
    {
     "name": "stdout",
     "output_type": "stream",
     "text": [
      "ECOLI d =  2.440062 ( 2.57334 2.285469 )\n",
      "HUMAN d =  1.990558 ( 2.057837 1.912596 )\n"
     ]
    },
    {
     "data": {
      "text/plain": [
       "Text(0, 0.5, '$L_c$')"
      ]
     },
     "execution_count": 9,
     "metadata": {},
     "output_type": "execute_result"
    },
    {
     "data": {
      "image/png": "[encoded data removed]",
      "text/plain": [
       "<Figure size 432x288 with 1 Axes>"
      ]
     },
     "metadata": {
      "needs_background": "light"
     },
     "output_type": "display_data"
    }
   ],
   "source": [
    "mean_summary_dict = {}\n",
    "stderr_summary_dict = {}\n",
    "\n",
    "colors = ['C0', 'C1']\n",
    "fmts = ['o', 'x']\n",
    "\n",
    "ci = 0\n",
    "for organism in selected_organism:\n",
    "    xx = {}\n",
    "    yy = {}\n",
    "    for i in range(len(N_data[organism])):\n",
    "        # divide the data into bins\n",
    "        intN = int(np.log(N_data[organism][i]/10.)/np.log(1.1)) \n",
    "        if not intN in xx:\n",
    "            xx[intN] = []\n",
    "            yy[intN] = []\n",
    "        xx[intN].append(N_data[organism][i])\n",
    "        yy[intN].append(Lc_data[organism][i])\n",
    "\n",
    "    \n",
    "    summary_x = []\n",
    "    summary_y = []\n",
    "    summary_stderry = []\n",
    "    for intN in range(100):\n",
    "        if intN in xx:\n",
    "            if len(xx[intN])>=10:\n",
    "                summary_x.append(np.mean(np.array(xx[intN])))\n",
    "                summary_y.append(np.mean(np.array(yy[intN])))\n",
    "                summary_stderry.append(np.std(np.array(yy[intN]))/(len(yy)**0.5))\n",
    "    # Plot the data\n",
    "    plt.errorbar(summary_x, summary_y, yerr=summary_stderry, fmt=fmts[ci], capsize=5, label=organism, color=colors[ci])\n",
    "\n",
    "    # Fit the scaling coefficient with Theil–Sen estimators \n",
    "    res = scipy.stats.theilslopes(np.log(np.array(summary_y)), np.log(np.array(summary_x)))\n",
    "    print(organism, 'd = ', round(1./res[0], 6), '(', round(1./res[2], 6), round(1./res[3], 6), ')')\n",
    "    \n",
    "    # Plot the fitted curve\n",
    "    fitted_y = np.exp(res[0]*np.log(np.array(summary_x)) + res[1])\n",
    "    plt.plot(summary_x, fitted_y, color=colors[ci])\n",
    "    \n",
    "    ci += 1\n",
    "    \n",
    "plt.legend()\n",
    "plt.xscale('log')\n",
    "plt.yscale('log')\n",
    "plt.xlabel('Chain length $N$')\n",
    "plt.ylabel('$L_c$')"
   ]
  }
 ],
 "metadata": {
  "kernelspec": {
   "display_name": "myenv",
   "language": "python",
   "name": "myenv"
  },
  "language_info": {
   "codemirror_mode": {
    "name": "ipython",
    "version": 3
   },
   "file_extension": ".py",
   "mimetype": "text/x-python",
   "name": "python",
   "nbconvert_exporter": "python",
   "pygments_lexer": "ipython3",
   "version": "3.8.12"
  }
 },
 "nbformat": 4,
 "nbformat_minor": 5
}
